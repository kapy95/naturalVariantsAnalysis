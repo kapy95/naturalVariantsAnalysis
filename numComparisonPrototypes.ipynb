{
 "cells": [
  {
   "cell_type": "code",
   "execution_count": 1,
   "id": "378b474a",
   "metadata": {},
   "outputs": [],
   "source": [
    "import pandas as pd\n",
    "import numpy as np\n",
    "from scipy.spatial.distance import cdist"
   ]
  },
  {
   "cell_type": "code",
   "execution_count": 2,
   "id": "019cde4c",
   "metadata": {},
   "outputs": [],
   "source": [
    "from sklearn.model_selection import train_test_split\n",
    "from sklearn.preprocessing import LabelEncoder"
   ]
  },
  {
   "cell_type": "code",
   "execution_count": 3,
   "id": "7841489a",
   "metadata": {},
   "outputs": [
    {
     "name": "stdout",
     "output_type": "stream",
     "text": [
      "No. of features:2189\n",
      "Is na? True\n"
     ]
    }
   ],
   "source": [
    "dataset=pd.read_csv(\"./Data/road_traffic/mined_rtfm_relabelled_confidences.csv\", index_col=0)\n",
    "dataset = dataset.set_index('case:concept:name')\n",
    "X=dataset.drop(columns=[\"Class\"])\n",
    "\n",
    "y=dataset['Class']\n",
    "print(\"No. of features:\"+str(len(X.columns)))\n",
    "\n",
    "le = LabelEncoder()\n",
    "print(\"Is na? \"+str(X.isnull().values.any()))\n",
    "y_transformed = le.fit_transform(y)\n",
    "le_name_mapping = pd.Series(dict(zip(le.classes_,le.transform(le.classes_))))\n",
    "cols=X.columns.to_list()\n",
    "X_train, X_test, y_train, y_test = train_test_split(X,\n",
    "                                                    y_transformed,\n",
    "                                                    test_size=0.2,\n",
    "                                                    stratify=y_transformed,\n",
    "                                                    shuffle=True,\n",
    "                                                    random_state=0)"
   ]
  },
  {
   "cell_type": "code",
   "execution_count": 4,
   "id": "167a57b4",
   "metadata": {},
   "outputs": [],
   "source": [
    "def calculateAverageDistance(prot_values,class_data_without_prot):\n",
    "    distances=cdist([prot_values], class_data_without_prot, 'euclidean')\n",
    "    cohesion=np.mean(distances)\n",
    "    return cohesion"
   ]
  },
  {
   "cell_type": "code",
   "execution_count": 5,
   "id": "695e0422",
   "metadata": {},
   "outputs": [],
   "source": [
    "route=\"07-21-2025_13-15-50\"\n",
    "best_class0_our_prot=pd.read_csv(\"./results/Ours/\"+route+\"/best_predicted_instance_class0.csv\")[\"case:concept:name\"][0]\n",
    "best_class1_our_prot=pd.read_csv(\"./results/Ours/\"+route+\"/best_predicted_instance_class1.csv\")[\"case:concept:name\"][0]\n",
    "best_class2_our_prot=pd.read_csv(\"./results/Ours/\"+route+\"/best_predicted_instance_class2.csv\")[\"case:concept:name\"][0]\n",
    "best_class3_our_prot=pd.read_csv(\"./results/Ours/\"+route+\"/best_predicted_instance_class3.csv\")[\"case:concept:name\"][0]"
   ]
  },
  {
   "cell_type": "code",
   "execution_count": 6,
   "id": "f91fdf76",
   "metadata": {},
   "outputs": [],
   "source": [
    "best_class0_kmedoids=pd.read_csv(\"./results/Kmedoids/medoid_class0.csv\")[\"case:concept:name\"][0]\n",
    "best_class1_kmedoids=pd.read_csv(\"./results/Kmedoids/medoid_class1.csv\")[\"case:concept:name\"][0]\n",
    "best_class2_kmedoids=pd.read_csv(\"./results/Kmedoids/medoid_class2.csv\")[\"case:concept:name\"][0]\n",
    "best_class3_kmedoids=pd.read_csv(\"./results/Kmedoids/medoid_class3.csv\")[\"case:concept:name\"][0]"
   ]
  },
  {
   "cell_type": "code",
   "execution_count": 7,
   "id": "6d579e18",
   "metadata": {},
   "outputs": [],
   "source": [
    "prototypes=[(0,best_class0_kmedoids, best_class0_our_prot), \n",
    "            (1, best_class1_kmedoids, best_class1_our_prot), \n",
    "            (2, best_class2_kmedoids, best_class2_our_prot),\n",
    "            (3, best_class3_kmedoids, best_class3_our_prot)]"
   ]
  },
  {
   "cell_type": "code",
   "execution_count": 8,
   "id": "1ab73b9e",
   "metadata": {},
   "outputs": [],
   "source": [
    "training_data_used=X_train.fillna(-100)"
   ]
  },
  {
   "cell_type": "code",
   "execution_count": 9,
   "id": "5205300a",
   "metadata": {},
   "outputs": [
    {
     "name": "stdout",
     "output_type": "stream",
     "text": [
      "Class 0:\n",
      "Cohesion: Kmedoid prot:108.76124630049367, Ours:3213.5269463770996\n",
      "Separation: Kmedoid prot:4196.133347794332, Ours:5238.083972692399\n",
      "Class 1:\n",
      "Cohesion: Kmedoid prot:411.469896725199, Ours:3964.563191885667\n",
      "Separation: Kmedoid prot:4362.376261878498, Ours:5857.095312142479\n",
      "Class 2:\n",
      "Cohesion: Kmedoid prot:797.3379379962704, Ours:931.6956005662787\n",
      "Separation: Kmedoid prot:4304.17294981836, Ours:4301.978206367681\n",
      "Class 3:\n",
      "Cohesion: Kmedoid prot:1137.014173313287, Ours:1137.014173313287\n",
      "Separation: Kmedoid prot:3449.1854232454675, Ours:3449.1854232454675\n"
     ]
    }
   ],
   "source": [
    "for pairPrototypes in prototypes:\n",
    "    classProts=pairPrototypes[0]\n",
    "    identifier_medoid=pairPrototypes[1]\n",
    "    identifier_our_prot=pairPrototypes[2]\n",
    "\n",
    "    data_class_X=training_data_used[y_train==classProts]\n",
    "    data_other_classes=training_data_used[y_train!=classProts]\n",
    "\n",
    "    prot_values_kmedoids=training_data_used.loc[identifier_medoid].values\n",
    "    class_data_without_medoid_prot=data_class_X.drop(identifier_medoid).values\n",
    "    cohesionMedoid=calculateAverageDistance(prot_values_kmedoids,class_data_without_medoid_prot)\n",
    "    sepMedoid=calculateAverageDistance(prot_values_kmedoids, data_other_classes)\n",
    "\n",
    "    prot_values_our_prot=training_data_used.loc[identifier_our_prot].values\n",
    "    class_data_without_our_prot=data_class_X.drop(identifier_our_prot).values\n",
    "    cohesionOurs=calculateAverageDistance(prot_values_our_prot, class_data_without_our_prot)\n",
    "    sepOurs=calculateAverageDistance(prot_values_our_prot, data_other_classes)\n",
    "    \n",
    "    print(\"Class \"+ str(classProts)+\":\")\n",
    "    print(\"Cohesion: Kmedoid prot:\"+str(cohesionMedoid)+\", Ours:\"+str(cohesionOurs))\n",
    "    print(\"Separation: Kmedoid prot:\"+str(sepMedoid)+\", Ours:\"+str(sepOurs))"
   ]
  }
 ],
 "metadata": {
  "kernelspec": {
   "display_name": "declareTrees",
   "language": "python",
   "name": "python3"
  },
  "language_info": {
   "codemirror_mode": {
    "name": "ipython",
    "version": 3
   },
   "file_extension": ".py",
   "mimetype": "text/x-python",
   "name": "python",
   "nbconvert_exporter": "python",
   "pygments_lexer": "ipython3",
   "version": "3.8.0"
  }
 },
 "nbformat": 4,
 "nbformat_minor": 5
}
